{
 "cells": [
  {
   "cell_type": "markdown",
   "id": "a7ad966d",
   "metadata": {},
   "source": [
    "# Big Mart Sales Prediction Analysis"
   ]
  },
  {
   "cell_type": "markdown",
   "id": "f287495a",
   "metadata": {},
   "source": [
    "IMPORTING THE LIBRARIES"
   ]
  },
  {
   "cell_type": "code",
   "execution_count": null,
   "id": "b860e4a3",
   "metadata": {},
   "outputs": [],
   "source": [
    "import numpy as np\n",
    "import pandas as pd\n",
    "import matplotlib.pyplot as plt\n",
    "import seaborn as sns\n",
    "import os\n",
    "import scipy as sp\n",
    "import warnings\n",
    "import datetime\n",
    "warnings.filterwarnings(\"ignore\")\n",
    "%matplotlib inline"
   ]
  },
  {
   "cell_type": "markdown",
   "id": "7a27e897",
   "metadata": {},
   "source": [
    "LOADING THE DATASET"
   ]
  },
  {
   "cell_type": "code",
   "execution_count": null,
   "id": "76d04d21",
   "metadata": {},
   "outputs": [],
   "source": [
    "df_train = pd.read_csv(r\"C:\\Users\\Pelux\\Desktop\\Books\\Train.csv\")\n",
    "df_test = pd.read_csv(r\"C:\\Users\\Pelux\\Desktop\\Books\\Test.csv\")"
   ]
  },
  {
   "cell_type": "code",
   "execution_count": null,
   "id": "d627810d",
   "metadata": {},
   "outputs": [],
   "source": [
    "df_train.head()"
   ]
  },
  {
   "cell_type": "code",
   "execution_count": null,
   "id": "acf75bba",
   "metadata": {},
   "outputs": [],
   "source": [
    "df_test.head()"
   ]
  },
  {
   "cell_type": "markdown",
   "id": "a3801dbe",
   "metadata": {},
   "source": [
    " ### DATA CLEANING"
   ]
  },
  {
   "cell_type": "code",
   "execution_count": null,
   "id": "1789e491",
   "metadata": {},
   "outputs": [],
   "source": [
    "df_train.info()"
   ]
  },
  {
   "cell_type": "code",
   "execution_count": null,
   "id": "41574949",
   "metadata": {},
   "outputs": [],
   "source": [
    "df_train.shape"
   ]
  },
  {
   "cell_type": "code",
   "execution_count": null,
   "id": "df4d9aeb",
   "metadata": {},
   "outputs": [],
   "source": [
    "df_train.describe()"
   ]
  },
  {
   "cell_type": "code",
   "execution_count": null,
   "id": "7c3a1fed",
   "metadata": {},
   "outputs": [],
   "source": []
  },
  {
   "cell_type": "code",
   "execution_count": null,
   "id": "86ac2e9f",
   "metadata": {},
   "outputs": [],
   "source": [
    "df_train.isnull().sum()"
   ]
  },
  {
   "cell_type": "code",
   "execution_count": null,
   "id": "b514fbdc",
   "metadata": {},
   "outputs": [],
   "source": [
    "df_train.nunique()"
   ]
  },
  {
   "cell_type": "code",
   "execution_count": null,
   "id": "d6cc238e",
   "metadata": {},
   "outputs": [],
   "source": [
    "df_train.dtypes"
   ]
  },
  {
   "cell_type": "markdown",
   "id": "915b02bf",
   "metadata": {},
   "source": [
    "To check For Categorical Columns"
   ]
  },
  {
   "cell_type": "code",
   "execution_count": null,
   "id": "3edb035e",
   "metadata": {},
   "outputs": [],
   "source": [
    "cat_col = []\n",
    "for x in df_train.dtypes.index:\n",
    "    if df_train.dtypes[x] == 'object':\n",
    "        cat_col.append (x)\n",
    "cat_col"
   ]
  },
  {
   "cell_type": "code",
   "execution_count": null,
   "id": "d2cd14b8",
   "metadata": {},
   "outputs": [],
   "source": [
    "cat_col.remove('Item_Identifier')\n",
    "cat_col.remove('Outlet_Identifier')\n",
    "cat_col"
   ]
  },
  {
   "cell_type": "markdown",
   "id": "5a046128",
   "metadata": {},
   "source": [
    "To Print the Categorical Columns"
   ]
  },
  {
   "cell_type": "code",
   "execution_count": null,
   "id": "3fbdd106",
   "metadata": {},
   "outputs": [],
   "source": [
    "for x in cat_col:\n",
    "    print(x)\n",
    "    print(df_train[x].value_counts())\n",
    "    print()"
   ]
  },
  {
   "cell_type": "markdown",
   "id": "adcc5a38",
   "metadata": {},
   "source": [
    "Filling of the Missing Values"
   ]
  },
  {
   "cell_type": "code",
   "execution_count": null,
   "id": "a22687a7",
   "metadata": {},
   "outputs": [],
   "source": [
    "df_train['Item_Weight'].fillna(df_train['Item_Weight'].mean(), inplace = True)"
   ]
  },
  {
   "cell_type": "code",
   "execution_count": null,
   "id": "6fcd61e1",
   "metadata": {},
   "outputs": [],
   "source": [
    "df_train['Outlet_Size'].fillna(df_train['Outlet_Size'].mode()[0], inplace = True)"
   ]
  },
  {
   "cell_type": "code",
   "execution_count": null,
   "id": "efacb300",
   "metadata": {},
   "outputs": [],
   "source": [
    "df_train.isnull().sum()"
   ]
  },
  {
   "cell_type": "markdown",
   "id": "0cd5c1c4",
   "metadata": {},
   "source": [
    "Combining Columns"
   ]
  },
  {
   "cell_type": "code",
   "execution_count": null,
   "id": "66633cd8",
   "metadata": {},
   "outputs": [],
   "source": [
    "df_train['Item_Fat_Content'] = df_train['Item_Fat_Content'].replace({'LF':'Low Fat', 'reg':'Regular', 'low fat':'Low Fat'})"
   ]
  },
  {
   "cell_type": "code",
   "execution_count": null,
   "id": "a66cf15a",
   "metadata": {},
   "outputs": [],
   "source": [
    "df_train['Item_Fat_Content'].value_counts()"
   ]
  },
  {
   "cell_type": "markdown",
   "id": "81b384da",
   "metadata": {},
   "source": [
    "Creation of New Attributes"
   ]
  },
  {
   "cell_type": "code",
   "execution_count": null,
   "id": "73d3657d",
   "metadata": {},
   "outputs": [],
   "source": [
    "df_train['New_item_type'] = df_train['Item_Identifier'].apply(lambda x: x[:2])"
   ]
  },
  {
   "cell_type": "code",
   "execution_count": null,
   "id": "0cd021c6",
   "metadata": {},
   "outputs": [],
   "source": [
    "df_train['New_item_type'].replace({'FD':'Food', 'NC':'Non-Consumable', 'DR':'Drinks'}, inplace = True)"
   ]
  },
  {
   "cell_type": "code",
   "execution_count": null,
   "id": "a0b8eb32",
   "metadata": {},
   "outputs": [],
   "source": [
    "df_train['New_item_type'].value_counts()"
   ]
  },
  {
   "cell_type": "markdown",
   "id": "ef909fbe",
   "metadata": {},
   "source": [
    "Adjusting Year of Establishment"
   ]
  },
  {
   "cell_type": "code",
   "execution_count": null,
   "id": "02eaceb3",
   "metadata": {},
   "outputs": [],
   "source": [
    "df_train['Outlet_Years'] = 2022 - df_train[\"Outlet_Establishment_Year\"]"
   ]
  },
  {
   "cell_type": "code",
   "execution_count": null,
   "id": "1ca1efa7",
   "metadata": {},
   "outputs": [],
   "source": [
    "df_train['Outlet_Years']"
   ]
  },
  {
   "cell_type": "code",
   "execution_count": null,
   "id": "420316c9",
   "metadata": {},
   "outputs": [],
   "source": [
    "df_train.duplicated().sum()"
   ]
  },
  {
   "cell_type": "code",
   "execution_count": null,
   "id": "0552e283",
   "metadata": {},
   "outputs": [],
   "source": [
    "df_train.drop(['Item_Identifier','Outlet_Identifier'],axis = 1, inplace = True)"
   ]
  },
  {
   "cell_type": "code",
   "execution_count": null,
   "id": "631db0ef",
   "metadata": {},
   "outputs": [],
   "source": [
    "df_test.drop(['Item_Identifier','Outlet_Identifier'],axis = 1, inplace = True)"
   ]
  },
  {
   "cell_type": "code",
   "execution_count": null,
   "id": "5663a1a4",
   "metadata": {},
   "outputs": [],
   "source": [
    "df_train.head()"
   ]
  },
  {
   "cell_type": "markdown",
   "id": "64e620a7",
   "metadata": {},
   "source": [
    "### Exploratory Data Analysis"
   ]
  },
  {
   "cell_type": "code",
   "execution_count": null,
   "id": "db695db5",
   "metadata": {},
   "outputs": [],
   "source": [
    "import dtale"
   ]
  },
  {
   "cell_type": "code",
   "execution_count": null,
   "id": "44e8e031",
   "metadata": {},
   "outputs": [],
   "source": [
    "dtale.show(df_train)"
   ]
  },
  {
   "cell_type": "code",
   "execution_count": 2,
   "id": "93235fe2",
   "metadata": {},
   "outputs": [
    {
     "name": "stdout",
     "output_type": "stream",
     "text": [
      "ready\n"
     ]
    }
   ],
   "source": [
    "my_string = \"I'm ready\"\n",
    "print(my_string[4:9])"
   ]
  },
  {
   "cell_type": "code",
   "execution_count": null,
   "id": "29e755a5",
   "metadata": {},
   "outputs": [],
   "source": []
  }
 ],
 "metadata": {
  "kernelspec": {
   "display_name": "Python 3 (ipykernel)",
   "language": "python",
   "name": "python3"
  },
  "language_info": {
   "codemirror_mode": {
    "name": "ipython",
    "version": 3
   },
   "file_extension": ".py",
   "mimetype": "text/x-python",
   "name": "python",
   "nbconvert_exporter": "python",
   "pygments_lexer": "ipython3",
   "version": "3.9.7"
  }
 },
 "nbformat": 4,
 "nbformat_minor": 5
}
